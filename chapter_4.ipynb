{
  "cells": [
    {
      "cell_type": "markdown",
      "metadata": {},
      "source": [
        "# Data Manipulation\n",
        "\n",
        "## Learning objectives\n",
        "\n",
        "-   Understand DataFrames\n",
        "\n",
        "-   Manipulate, transform and analyse DataFrames\n",
        "\n",
        "## Introduction\n",
        "\n",
        "Dataframes, as we saw [the previous section](week-2.qmd), is a tabular data format, with columns and rows. Columns are *variable* names and rows are individual *observations*. Just like other data structures dicussed in previous chapters, a DataFrame handles different data types:\n",
        "- int64: whole numbers (e.g age = 30)\n",
        "\n",
        "- float64; numbers with decimals (e.g. height = 1.9, temperature = 33.0)\n",
        "\n",
        "- datetime64: date and time\n",
        "\n",
        "- category: catogories or factors (e.g. gender = male, female; race = black, white, ...)\n",
        "\n",
        "- bool: True or False\n",
        "\n",
        "- object: string \n",
        "\n",
        "\n",
        "According to Hadley Wickman, a DataFrame should be in a *tidy* format:\n",
        "\n",
        "> 1.  Each variable is a column; each column is a variable.\n",
        "> 2.  Each observation is row; each row is an observation.\n",
        "> 3.  Each value is a cell; each cell is a single value. \n",
        "\n",
        "\n",
        "The pandas package provide a toolbox of working analysing, querying and transforming DataFrames. We will continue working with the `gapminder dataset. First load pandas and read the data, saving it as \"gapminder\":"
      ]
    },
    {
      "cell_type": "code",
      "execution_count": null,
      "metadata": {},
      "outputs": [],
      "source": [
        "import pandas as pd\n",
        "\n",
        "gapminder = pd.read_csv(\"https://raw.githubusercontent.com/aubreympungose/data-science-course/main/weeks/data/gapminder.csv\")"
      ]
    },
    {
      "cell_type": "markdown",
      "metadata": {},
      "source": [
        "Let's examine the data by looking at few observations:"
      ]
    },
    {
      "cell_type": "code",
      "execution_count": null,
      "metadata": {},
      "outputs": [],
      "source": [
        "gapminder.head()"
      ]
    },
    {
      "cell_type": "markdown",
      "metadata": {},
      "source": [
        "You can check how many variables are in the data and what type of data:"
      ]
    },
    {
      "cell_type": "code",
      "execution_count": null,
      "metadata": {},
      "outputs": [],
      "source": [
        "gapminder.info()"
      ]
    },
    {
      "cell_type": "markdown",
      "metadata": {},
      "source": [
        "You can see that `gapminder` has 6 columns and 1704 rows. The columns in the dataset are:\n",
        "\n",
        "- country: Simply the country\n",
        "\n",
        "- continent: Continent\n",
        "\n",
        "- year: The year data was collected\n",
        "\n",
        "- lifeExp: Life expectancy of a country in year\n",
        "\n",
        "- pop: Population of the country in a year\n",
        "\n",
        "- gdpPercap: Gross Domestic Product of a country in a year\n",
        "\n",
        "\n",
        "You can also print the columns in the dataset by using `.columns` attribute. "
      ]
    },
    {
      "cell_type": "code",
      "execution_count": null,
      "metadata": {},
      "outputs": [],
      "source": [
        "gapminder.columns"
      ]
    },
    {
      "cell_type": "markdown",
      "metadata": {},
      "source": [
        "You can get the number of rows by using `.index` attribute:"
      ]
    },
    {
      "cell_type": "code",
      "execution_count": null,
      "metadata": {},
      "outputs": [],
      "source": [
        "gapminder.index"
      ]
    },
    {
      "cell_type": "markdown",
      "metadata": {},
      "source": [
        "## MANIPULATING COLUMNS\n",
        "\n",
        "#### Access/Select columns\n",
        "\n",
        "We may be interested in some of the columns in the `gampminder` dataframe, let say, for example, \"country\" only. You can select a specific column by taking  the name of the DataFrame, followed by square brackets (`[]`) and passing the name of the \"column\" inside square brackets:"
      ]
    },
    {
      "cell_type": "code",
      "execution_count": null,
      "metadata": {},
      "outputs": [],
      "source": [
        "gapminder[\"country\"]"
      ]
    },
    {
      "cell_type": "markdown",
      "metadata": {},
      "source": [
        "To Access multiple, columns you follow the same method as above, except that you wrap column names list (`[]`), so you end up with double sqaure brackets. Let's say we want to select \"country\", \"pop\", and \"year\" columns:"
      ]
    },
    {
      "cell_type": "code",
      "execution_count": null,
      "metadata": {},
      "outputs": [],
      "source": [
        "gapminder[[\"country\", \"pop\", \"year\"]]"
      ]
    },
    {
      "cell_type": "markdown",
      "metadata": {},
      "source": [
        "You can alse access columns by their index using `.iloc()` function. Remember that an index in Python starts at 0, for example, to access the first column"
      ]
    },
    {
      "cell_type": "code",
      "execution_count": null,
      "metadata": {},
      "outputs": [],
      "source": [
        "gapminder.iloc[:, 0]"
      ]
    },
    {
      "cell_type": "markdown",
      "metadata": {},
      "source": [
        "In the above code, the colon (`:`) specify that we want to retun all rows; you will more abouth this when selecting by both columns and rows.\n",
        "\n",
        "To access multiple columns, you pass a list of indexes of columns. For example, select the 1st, 3rd and 5th columns:"
      ]
    },
    {
      "cell_type": "code",
      "execution_count": null,
      "metadata": {},
      "outputs": [],
      "source": [
        "gapminder.iloc[:, [0, 2, 4]]"
      ]
    },
    {
      "cell_type": "markdown",
      "metadata": {},
      "source": [
        "Suppose you want access a range of of columns, for example, from the 1st to the 3rd column:"
      ]
    },
    {
      "cell_type": "code",
      "execution_count": null,
      "metadata": {},
      "outputs": [],
      "source": [
        "gapminder.iloc[:, 0:3]"
      ]
    },
    {
      "cell_type": "markdown",
      "metadata": {},
      "source": [
        "### Rename columns\n",
        "\n",
        "You may need to change column names. For example, in the `gapminder` dataset, we may change the \"pop\" column to population. You will use the `.rename()` function, pass the column argument, and specify column names within the dictionary (`{\"old_name\":\"new_name\"}`). We will assign the results to the new DataFrame named `gapminder_new`:"
      ]
    },
    {
      "cell_type": "code",
      "execution_count": null,
      "metadata": {},
      "outputs": [],
      "source": [
        "gapminder_new = gapminder.rename(columns = {\"pop\":\"population\"})\n",
        "\n",
        "gapminder_new.head()"
      ]
    },
    {
      "cell_type": "markdown",
      "metadata": {},
      "source": [
        "The \"pop\" column has been changed to \"population\".\n",
        "\n",
        "You can also rename multiple columns; in this case, rename \"lifeExp\" and \"gdpPercap\":"
      ]
    },
    {
      "cell_type": "code",
      "execution_count": null,
      "metadata": {},
      "outputs": [],
      "source": [
        "gapminder_new = gapminder.rename(columns = {\"lifeExp\":\"life_expectancy\", \"gdpPercap\":\"gdp_pc\"})\n",
        "\n",
        "gapminder_new.head()"
      ]
    },
    {
      "cell_type": "markdown",
      "metadata": {},
      "source": [
        "### Making new columns, Removing columns\n",
        "\n",
        "To create a new column you simply take the name of the dataframe, pass the string of the new columnn inside sqaure bracket, and assign values:"
      ]
    },
    {
      "cell_type": "code",
      "execution_count": null,
      "metadata": {},
      "outputs": [],
      "source": [
        "gapminder[\"new_column\"] = 20\n",
        "\n",
        "gapminder.head()"
      ]
    },
    {
      "cell_type": "markdown",
      "metadata": {},
      "source": [
        "There is a new column added that has values of 20. \n",
        "\n",
        "In many cases, we may need to create a new column resulting from manipulating other columns. For example, we know that the GDP per capita is calculated from dividing the total GDP by a population. If we want to create a new column of the total GDP, we need to multiply GDP per capita by the population size of the country:"
      ]
    },
    {
      "cell_type": "code",
      "execution_count": null,
      "metadata": {},
      "outputs": [],
      "source": [
        "gapminder[\"total_gdp\"] = gapminder[\"gdpPercap\"] * gapminder[\"pop\"]\n",
        "\n",
        "gapminder.head()"
      ]
    },
    {
      "cell_type": "markdown",
      "metadata": {},
      "source": [
        "We have a new column (\"total_gdp\") added to the `gapminder` DataFrame. \n",
        "\n",
        "You can remove columns by using `.drop() function:"
      ]
    },
    {
      "cell_type": "code",
      "execution_count": null,
      "metadata": {},
      "outputs": [],
      "source": [
        "gapminder = gapminder.drop([\"total_gdp\", \"new_column\"], axis = 1)\n",
        "\n",
        "gapminder.head()"
      ]
    },
    {
      "cell_type": "markdown",
      "metadata": {},
      "source": [
        "## Manipulate Rows\n",
        "You can rows by any column by using `.sort_values()` function:"
      ]
    },
    {
      "cell_type": "code",
      "execution_count": null,
      "metadata": {},
      "outputs": [],
      "source": [
        "gapminder.sort_values([\"lifeExp\"])"
      ]
    },
    {
      "cell_type": "markdown",
      "metadata": {},
      "source": [
        "You can see that Rwanda had the lowest life expectancy. \n",
        "\n",
        "To sort values into descending order (highest to lowest), you pass `ascending = False`:"
      ]
    },
    {
      "cell_type": "code",
      "execution_count": null,
      "metadata": {},
      "outputs": [],
      "source": [
        "gapminder.sort_values([\"pop\"], ascending = False)"
      ]
    },
    {
      "cell_type": "markdown",
      "metadata": {},
      "source": [
        "You can see that China had the highest population.\n",
        "\n",
        "\n",
        "You may be interested in observations/rows that meet certain conditions. For example, in the gapminder data, you may need to keel all observations from the African continent, and save as a new DataFrame called `gapminder_africa`:"
      ]
    },
    {
      "cell_type": "code",
      "execution_count": null,
      "metadata": {},
      "outputs": [],
      "source": [
        "gapminder_africa = gapminder[gapminder[\"continent\"] ==  \"Africa\"]\n",
        "\n",
        "gapminder_africa.head()"
      ]
    },
    {
      "cell_type": "markdown",
      "metadata": {},
      "source": [
        "Filter all the observations that are in the year 2007 and ave it as `gapminder_2007:"
      ]
    },
    {
      "cell_type": "code",
      "execution_count": null,
      "metadata": {},
      "outputs": [],
      "source": [
        "gapminder_2007 = gapminder[gapminder[\"year\"] == 2007]\n",
        "\n",
        "gapminder_2007.head()"
      ]
    },
    {
      "cell_type": "markdown",
      "metadata": {},
      "source": [
        "::: {.callout-note}\n",
        "Note that we are using the equal operator `==` operator not the assignment `=` operator to filter rows. Most beginners will confuse the two.\n",
        ":::\n",
        "\n",
        "when filtering rows, you are using boolean operators:\n",
        "\n",
        "- `==`: equal to\n",
        "\n",
        "- `!=`: not equal to\n",
        "\n",
        "- `>`: greater than\n",
        "\n",
        "- `<`: less than\n",
        "\n",
        "- `>=`: greater than or equal to\n",
        "\n",
        "- `<=`: less than or equal to\n",
        "\n",
        "You can also filter rows by combining 2 conditions. Let us say we want:\n",
        "\n",
        "- countries in Africa\n",
        "\n",
        "- the year 2007\n",
        "\n",
        "and save as `africa_2007`:"
      ]
    },
    {
      "cell_type": "code",
      "execution_count": null,
      "metadata": {},
      "outputs": [],
      "source": [
        "africa_2007 = gapminder[(gapminder[\"continent\"] == \"Africa\")  & (gapminder[\"year\"] == 2007)]\n",
        "africa_2007.head()"
      ]
    },
    {
      "cell_type": "markdown",
      "metadata": {},
      "source": [
        "Sometimes you may need to filter multiple rows, let say, more than 5 countries. It would be inconvinient to type `country == \"...\"` five times. This is where the `.isin()` function is useful; you pass the list of observations you want. We will work with with observations from the year 2007."
      ]
    },
    {
      "cell_type": "code",
      "execution_count": null,
      "metadata": {},
      "outputs": [],
      "source": [
        "gapminder_2007 = gapminder[gapminder[\"year\"] == 2007]\n",
        "\n",
        "countries = gapminder_2007[gapminder_2007[\"country\"].isin([\"China\", \"Brazil\", \"India\", \"South Africa\"])]\n",
        "\n",
        "countries.head()"
      ]
    },
    {
      "cell_type": "markdown",
      "metadata": {},
      "source": [
        "You can also filter rows by using their index positions, let say, the 1st and 3rd rows:"
      ]
    },
    {
      "cell_type": "code",
      "execution_count": null,
      "metadata": {},
      "outputs": [],
      "source": [
        "gapminder.iloc[[0, 4]]"
      ]
    },
    {
      "cell_type": "markdown",
      "metadata": {},
      "source": [
        "You can also filter a range of rows For example, we may select top 10 countries with the highes population in 2007. So we will use the `gapminder_2007` DataFrame. You will need to arrange by population first"
      ]
    },
    {
      "cell_type": "code",
      "execution_count": null,
      "metadata": {},
      "outputs": [],
      "source": [
        "gapminder_2007 = gapminder_2007.sort_values([\"pop\"], ascending = False)\n",
        "gapminder_2007.head()"
      ]
    },
    {
      "cell_type": "markdown",
      "metadata": {},
      "source": [
        "You can see that observations are sorted in descending order from highest popultion to the lowest; now filter:"
      ]
    },
    {
      "cell_type": "code",
      "execution_count": null,
      "metadata": {},
      "outputs": [],
      "source": [
        "gapminder_2007.iloc[0:10]"
      ]
    },
    {
      "cell_type": "markdown",
      "metadata": {},
      "source": [
        "Another way of filtering rows is to use the `.query()` method. This is how you would filter observations from the African continent:"
      ]
    },
    {
      "cell_type": "code",
      "execution_count": null,
      "metadata": {},
      "outputs": [],
      "source": [
        "gapminder_africa = gapminder_2007.query(\"continent == 'Africa'\")\n",
        "gapminder_africa.head()"
      ]
    },
    {
      "cell_type": "markdown",
      "metadata": {},
      "source": [
        "Filter observations where life expectancy is equal to or greater 80 and the year is 2007; assign the results to `high_life_expect`:"
      ]
    },
    {
      "cell_type": "code",
      "execution_count": null,
      "metadata": {},
      "outputs": [],
      "source": [
        "high_life_expect = gapminder.query(\"lifeExp >= 80 and year == 2007\")\n",
        "\n",
        "high_life_expect.head()"
      ]
    },
    {
      "cell_type": "markdown",
      "metadata": {},
      "source": [
        "## Summary statistics and aggregating\n",
        "\n",
        "One of the important task in data science is to explore the data using summary statistics. There are various methods used to summarise data, including:\n",
        "\n",
        "| Summary stat                                  | pandas function |\n",
        "|-----------------------------------------------|-----------------|\n",
        "| Mean/average                                  | `.mean()`       |\n",
        "| Median/mid-point                              | `.median()`     |\n",
        "| Sum of values                                 | `.sum()`        |\n",
        "| Minimum                                       | `.min()`        |\n",
        "| Maximum                                       | `.max()`        |\n",
        "| Standard deviation: spread/dispersion of data | `.std()`        |\n",
        "| Count or total number of observations         | `.count()`      |\n",
        "\n",
        "\n",
        "Let explore these functions. What is the average/mean life expectancy of all countries?"
      ]
    },
    {
      "cell_type": "code",
      "execution_count": null,
      "metadata": {},
      "outputs": [],
      "source": [
        "gapminder[\"lifeExp\"].mean()"
      ]
    },
    {
      "cell_type": "markdown",
      "metadata": {},
      "source": [
        "What is the median GDP per capita?"
      ]
    },
    {
      "cell_type": "code",
      "execution_count": null,
      "metadata": {},
      "outputs": [],
      "source": [
        "gapminder[\"gdpPercap\"].median()"
      ]
    },
    {
      "cell_type": "markdown",
      "metadata": {},
      "source": [
        "Find the minimum population:"
      ]
    },
    {
      "cell_type": "code",
      "execution_count": null,
      "metadata": {},
      "outputs": [],
      "source": [
        "gapminder[\"pop\"].min()"
      ]
    },
    {
      "cell_type": "markdown",
      "metadata": {},
      "source": [
        "You can experiment with other functions listed in the above table.\n",
        "\n",
        "\n",
        "### Grouping\n",
        "\n",
        "In many cases, you may need to get summary statistics by a category or group. In above examples, although it is important to get the mean population of the world, but this tells us little about variaion in different regions. pandas has `.groupby()` function that group observations into categories. For example, you may be interested on finding the **average the GDP per capita** in each **continent**. Here you would use the `.groupby()` function, passing the \"continent\" column inside and follow by the summary statistics function:"
      ]
    },
    {
      "cell_type": "code",
      "execution_count": null,
      "metadata": {},
      "outputs": [],
      "source": [
        "gapminder.groupby(\"continent\")[\"gdpPercap\"].mean()"
      ]
    },
    {
      "cell_type": "markdown",
      "metadata": {},
      "source": [
        "The result show mean wealth (GDP per capita) by a continent. Wouldn't be nice to sort these statistics from highest to lowest?"
      ]
    },
    {
      "cell_type": "code",
      "execution_count": null,
      "metadata": {},
      "outputs": [],
      "source": [
        "gapminder.groupby(\"continent\")[\"gdpPercap\"].mean().sort_values(ascending = False)"
      ]
    },
    {
      "cell_type": "markdown",
      "metadata": {},
      "source": [
        "Now We can see that Oceania has the highest average wealth and Africa has the lowest. \n",
        "\n",
        "Sometimes you may need to find multiple summary statistics: mean, median, standard deviation, minimum,and maximum at the same time. `.agg()` function is able to do this:"
      ]
    },
    {
      "cell_type": "code",
      "execution_count": null,
      "metadata": {},
      "outputs": [],
      "source": [
        "gapminder.groupby(\"continent\")[\"gdpPercap\"].agg([\"mean\", \"median\", \"std\", \"min\", \"max\"])"
      ]
    },
    {
      "cell_type": "markdown",
      "metadata": {},
      "source": [
        "What if you want to find a summary stat of multiple columns? For example, find the mean pf these columns per continent: life expectancy, population, GDP per capita:\n"
      ]
    },
    {
      "cell_type": "code",
      "execution_count": null,
      "metadata": {},
      "outputs": [],
      "source": [
        "gapminder.groupby(\"continent\").agg(\n",
        "    mean_life_expect = (\"lifeExp\", \"mean\"),\n",
        "    mean_pop = (\"pop\", \"mean\"),\n",
        "    mean_gdp_pc = (\"gdpPercap\", \"mean\")\n",
        ")"
      ]
    },
    {
      "cell_type": "markdown",
      "metadata": {},
      "source": [
        "## Conclusion\n",
        "In this chapter you have learned about different ways of manipulating DataFrames. Next, we go to other pandas methods."
      ]
    }
  ],
  "metadata": {
    "kernelspec": {
      "display_name": "Python 3 (ipykernel)",
      "language": "python",
      "name": "python3"
    }
  },
  "nbformat": 4,
  "nbformat_minor": 4
}
