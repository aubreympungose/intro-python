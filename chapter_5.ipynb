{
  "cells": [
    {
      "cell_type": "markdown",
      "metadata": {},
      "source": [
        "# Data manipulation: Part II\n",
        "We introduce other methods in pandas that you can use to manipulate your data:\n",
        "\n",
        "- Working with categorical data\n",
        "\n",
        "- Converting column data types\n",
        "\n",
        "- Create a new categorical column from a numeric column\n",
        "\n",
        "- Reshaping data\n",
        "\n",
        "- Joining data\n",
        "\n",
        "- Handling missing data\n",
        "\n",
        "\n",
        "## Categorical data\n",
        "\n",
        "Categoricals have fixed and limited possible values or categories. Consider this example: We may have a column representing marital status of the individual:\n",
        "\n",
        "- Never married\n",
        "- Cohabiting\n",
        "- Married\n",
        "- Divorced\n",
        "- Widowed"
      ]
    },
    {
      "cell_type": "markdown",
      "metadata": {},
      "source": [
        "import numpy as np\n",
        "import pandas as pd\n",
        "\n",
        "data_frame = pd.DataFrame({})\n",
        "pd.DataFrame({\"A\": [\"a\", \"b\", \"c\", \"a\"]})\n"
      ]
    }
  ],
  "metadata": {
    "kernelspec": {
      "display_name": "Python 3 (ipykernel)",
      "language": "python",
      "name": "python3"
    }
  },
  "nbformat": 4,
  "nbformat_minor": 4
}
