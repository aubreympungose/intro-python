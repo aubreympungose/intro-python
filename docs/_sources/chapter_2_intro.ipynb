{
  "cells": [
    {
      "cell_type": "markdown",
      "metadata": {},
      "source": [
        "# Data Structures in Python\n",
        "\n",
        "In this chapter we deal with different data structures that can hold data in Python. Specifically, we will focus on the follwoing data structures:\n",
        "\n",
        "- Lists\n",
        "\n",
        "- Tuples\n",
        "\n",
        "- Dictionaries\n",
        "\n",
        "- DataFrames\n",
        "\n",
        "\n",
        "## Lists\n",
        "\n",
        "List is a data structure that store a collection of elements/items within it. For example, in [previous chapter](week-1a.qmd) we created a string variable named `country` that contained \"South Africa\"  element:"
      ]
    },
    {
      "cell_type": "code",
      "execution_count": null,
      "metadata": {},
      "outputs": [],
      "source": [
        "country = \"South Africa\"\n",
        "\n",
        "print(country)"
      ]
    },
    {
      "cell_type": "markdown",
      "metadata": {},
      "source": [
        "What if we wanted to create another country variable, named country_2 with \"Zimbabwe\" as an element? We can also do this:"
      ]
    },
    {
      "cell_type": "code",
      "execution_count": null,
      "metadata": {},
      "outputs": [],
      "source": [
        "country_2 = \"Zimbabwe\"\n",
        "print(country_2)"
      ]
    },
    {
      "cell_type": "markdown",
      "metadata": {},
      "source": [
        "What if we want to add country_3, country_4, etc? We can end up having many variables. This where lists come in. Lists are used to hold many items together. you can create lists in Python by using square barackets (`[]`):"
      ]
    },
    {
      "cell_type": "code",
      "execution_count": null,
      "metadata": {},
      "outputs": [],
      "source": [
        "southern_african_countries = [\"Angola\", \"Botswana\", \"Lesotho\", \"Malawi\", \"Mozambique\", \"Namibia\", \"South Africa\", \"Swaziland\", \"Zambia\", \"Zimbabwe\"]\n",
        "\n",
        "print(southern_african_countries)"
      ]
    },
    {
      "cell_type": "markdown",
      "metadata": {},
      "source": [
        "We now have a list of all countries in the Southern African region. There are various functions that can be used to extract, analyse and manipulate elements in a list. For example, you may be interested on how many elements are in a lists; in our case, how many countries are in the `southern_african_countries` list. You can use the `len()` function:"
      ]
    },
    {
      "cell_type": "code",
      "execution_count": null,
      "metadata": {},
      "outputs": [],
      "source": [
        "southern_african_countries = [\"Angola\", \"Botswana\", \"Lesotho\", \"Malawi\", \"Mozambique\", \"Namibia\", \"South Africa\", \"Swaziland\", \"Zambia\", \"Zimbabwe\"]\n",
        "\n",
        "print(len(southern_african_countries))"
      ]
    },
    {
      "cell_type": "markdown",
      "metadata": {},
      "source": [
        "The list has 10 elements/items. \n",
        "\n",
        "\n",
        "### Subset a list\n",
        "\n",
        "You can extract the list item by using the `[]` and the index position of the item. Note that Python index start at 0, meaning the first element will be in the position 0. This is important especially when coming from R background. Let extract the first element:"
      ]
    },
    {
      "cell_type": "code",
      "execution_count": null,
      "metadata": {},
      "outputs": [],
      "source": [
        "print(southern_african_countries[0])"
      ]
    },
    {
      "cell_type": "markdown",
      "metadata": {},
      "source": [
        "The first element is Angola. \n",
        "\n",
        "You can use can access the last element by:"
      ]
    },
    {
      "cell_type": "code",
      "execution_count": null,
      "metadata": {},
      "outputs": [],
      "source": [
        "print(southern_african_countries[-1])"
      ]
    },
    {
      "cell_type": "markdown",
      "metadata": {},
      "source": [
        "You can access more than 1 items; for example, extract the first, second and third items in the list by slicing:"
      ]
    },
    {
      "cell_type": "code",
      "execution_count": null,
      "metadata": {},
      "outputs": [],
      "source": [
        "print(southern_african_countries[0:3])"
      ]
    },
    {
      "cell_type": "markdown",
      "metadata": {},
      "source": [
        "Notice that we have included the index `3`, which is the 4th item, although the element itself is not printed. When slicing a list, the last index mentioned is not included. This is very importnt to note. There are other slicing options:"
      ]
    },
    {
      "cell_type": "code",
      "execution_count": null,
      "metadata": {},
      "outputs": [],
      "source": [
        "print(southern_african_countries[:3])"
      ]
    },
    {
      "cell_type": "markdown",
      "metadata": {},
      "source": [
        "### Manipulate a list\n",
        "\n",
        "List elements can be changed. For example, in 2018 Zwaziland changed their name to \"eSwatini\". We can change this in a list. First re-create the list:"
      ]
    },
    {
      "cell_type": "code",
      "execution_count": null,
      "metadata": {},
      "outputs": [],
      "source": [
        "southern_african_countries = [\"Angola\", \"Botswana\", \"Lesotho\", \"Malawi\", \"Mozambique\", \"Namibia\", \"South Africa\", \"Swaziland\", \"Zambia\", \"Zimbabwe\"]\n",
        "\n",
        "print(southern_african_countries)"
      ]
    },
    {
      "cell_type": "markdown",
      "metadata": {},
      "source": [
        "Then change the list element:"
      ]
    },
    {
      "cell_type": "code",
      "execution_count": null,
      "metadata": {},
      "outputs": [],
      "source": [
        "southern_african_countries[7] = \"eSwatini\"\n",
        "print(southern_african_countries)"
      ]
    },
    {
      "cell_type": "markdown",
      "metadata": {},
      "source": [
        "We have changed the list element from \"Swaziland\" to \"Eswatini\".\n",
        "\n",
        "You can also **add** new elements in a list. Suppose a geographer told us that our list of Southern African countries missed 3 countries:  Democratic Republic of the Congo, Mauritius, Madagascar and Seychelles. In Python, we can update our list and assign it to anew variable called `southern_africa_updated`. First find the length of the original `southern_african_countries`:"
      ]
    },
    {
      "cell_type": "code",
      "execution_count": null,
      "metadata": {},
      "outputs": [],
      "source": [
        "len(southern_african_countries)"
      ]
    },
    {
      "cell_type": "markdown",
      "metadata": {},
      "source": [
        "Add new items:"
      ]
    },
    {
      "cell_type": "code",
      "execution_count": null,
      "metadata": {},
      "outputs": [],
      "source": [
        "southern_africa_updated = southern_african_countries + [\"Democratic Republic of the Congo\", \"Mauritius\", \"Madagascar\", \"Seychelles\"]\n",
        "\n",
        "print(southern_africa_updated)"
      ]
    },
    {
      "cell_type": "markdown",
      "metadata": {},
      "source": [
        "Find the lenght of the updated variable:"
      ]
    },
    {
      "cell_type": "code",
      "execution_count": null,
      "metadata": {},
      "outputs": [],
      "source": [
        "len(southern_africa_updated)"
      ]
    },
    {
      "cell_type": "markdown",
      "metadata": {},
      "source": [
        "The updated variable has lenght of 14. This means we have added 4 items.\n",
        "\n",
        "You can remove an element from the list by using `del()` function:"
      ]
    },
    {
      "cell_type": "code",
      "execution_count": null,
      "metadata": {},
      "outputs": [],
      "source": [
        "del southern_africa_updated[0]\n",
        "\n",
        "print(southern_africa_updated)"
      ]
    },
    {
      "cell_type": "markdown",
      "metadata": {},
      "source": [
        "We have removed the element at the index 0, which is Botswana.\n",
        "\n",
        "\n",
        "### Manipulating list with numeric data\n",
        "\n",
        "In above examples we have worked with list that contain string data types: all out elements were string (country names). Suppose we have the life expectancy of those countries. Life expectancy is the average number of years is expected to live:\n",
        "\n",
        "Let us create a numeric list, that we name `life_expectancy`, that has the average life expectancy of the countries of Southern Africa:"
      ]
    },
    {
      "cell_type": "code",
      "execution_count": null,
      "metadata": {},
      "outputs": [],
      "source": [
        "life_expectancy = [61.6, 61.1, 57.1, 53.1, 62.9, 59.3, 59.3, 62.3, 61.2, 59.3]\n",
        "\n",
        "print(life_expectancy)"
      ]
    },
    {
      "cell_type": "markdown",
      "metadata": {},
      "source": [
        "We can find the **minimum** life expactancy:"
      ]
    },
    {
      "cell_type": "code",
      "execution_count": null,
      "metadata": {},
      "outputs": [],
      "source": [
        "print(min(life_expectancy))"
      ]
    },
    {
      "cell_type": "markdown",
      "metadata": {},
      "source": [
        "Print the **maximum** life expectancy:"
      ]
    },
    {
      "cell_type": "code",
      "execution_count": null,
      "metadata": {},
      "outputs": [],
      "source": [
        "print(max(life_expectancy))"
      ]
    },
    {
      "cell_type": "markdown",
      "metadata": {},
      "source": [
        "Not that a list can hold elements of of different data types: string, float, integer, boolean, etc."
      ]
    },
    {
      "cell_type": "code",
      "execution_count": 1,
      "metadata": {},
      "outputs": [
        {
          "name": "stdout",
          "output_type": "stream",
          "text": [
            "['Name', 'Aubrey', 'Age', 32, 'Height', 1.8, 'Is male?', True]\n"
          ]
        }
      ],
      "source": [
        "person_1 = [\"Name\", \"Aubrey\", \"Age\", 32, \"Height\", 1.8, \"Is male?\", True]\n",
        "print(person_1)"
      ]
    },
    {
      "cell_type": "markdown",
      "metadata": {},
      "source": [
        "## NumPy Arrays\n",
        "\n",
        "A NumPy array is a data structure that can hold numeic elements. It is short for Numeric Python. It is an important data structure if you want to manipulate numeric data. First, you will need to install the `numpy` package if not already installed: `pip install numpy`. Then load the library as:"
      ]
    },
    {
      "cell_type": "code",
      "execution_count": null,
      "metadata": {},
      "outputs": [],
      "source": [
        "import numpy as np"
      ]
    },
    {
      "cell_type": "markdown",
      "metadata": {},
      "source": [
        "Suppose we have the lenght in kilometers of major South Africa rivers stored as a list and assigned it to `river_lenght_km` variable:"
      ]
    },
    {
      "cell_type": "code",
      "execution_count": null,
      "metadata": {},
      "outputs": [],
      "source": [
        "river_lenght_km = [2200, 1800, 1210, 502, 560, 645, 520, 480]\n",
        "print(river_lenght_km)"
      ]
    },
    {
      "cell_type": "markdown",
      "metadata": {},
      "source": [
        "We need to convert this lift into an numpy array:"
      ]
    },
    {
      "cell_type": "code",
      "execution_count": null,
      "metadata": {},
      "outputs": [],
      "source": [
        "river_lenght_km = np.array(river_lenght_km)\n",
        "\n",
        "print(type(river_lenght_km))"
      ]
    },
    {
      "cell_type": "markdown",
      "metadata": {},
      "source": [
        "### Summary statistics and mathematical operations\n",
        "\n",
        "There many functions within the `numpy` library. We can calculate summary statistics:\n",
        "\n",
        "Get the mean/average:"
      ]
    },
    {
      "cell_type": "code",
      "execution_count": null,
      "metadata": {},
      "outputs": [],
      "source": [
        "print(np.mean(river_lenght_km))"
      ]
    },
    {
      "cell_type": "markdown",
      "metadata": {},
      "source": [
        "Get the median:"
      ]
    },
    {
      "cell_type": "code",
      "execution_count": null,
      "metadata": {},
      "outputs": [],
      "source": [
        "print(np.median(river_lenght_km))"
      ]
    },
    {
      "cell_type": "markdown",
      "metadata": {},
      "source": [
        "Get the standard deviation:"
      ]
    },
    {
      "cell_type": "code",
      "execution_count": null,
      "metadata": {},
      "outputs": [],
      "source": [
        "print(np.std(river_lenght_km))"
      ]
    },
    {
      "cell_type": "markdown",
      "metadata": {},
      "source": [
        "There are other functions you can use. \n",
        "\n",
        "What are the rivers that have lenght of greater than 1000 kilometers? Find these and assign the result to a variable named longest_rivers"
      ]
    },
    {
      "cell_type": "code",
      "execution_count": null,
      "metadata": {},
      "outputs": [],
      "source": [
        "longest_rivers = river_lenght_km[river_lenght_km > 1000]\n",
        "print(longest_rivers)"
      ]
    },
    {
      "cell_type": "markdown",
      "metadata": {},
      "source": [
        "The `river_lenght_km` array is in kilometers. What if we want to convert to meters? Since 1 km = 1000 meters, you can convert kilometer to meter by multplying by 1000 since. Let's do this and assign result to a new variable named river_lenght_meters"
      ]
    },
    {
      "cell_type": "code",
      "execution_count": null,
      "metadata": {},
      "outputs": [],
      "source": [
        "river_lenght_meters = river_lenght_km * 1000\n",
        "\n",
        "print(river_lenght_meters)"
      ]
    },
    {
      "cell_type": "markdown",
      "metadata": {},
      "source": [
        "Just like lists, you can subsets numpy arrays using index positions of the element. To acces the second element of `river_lenght_km`: "
      ]
    },
    {
      "cell_type": "code",
      "execution_count": null,
      "metadata": {},
      "outputs": [],
      "source": [
        "print(river_lenght_km[1])"
      ]
    },
    {
      "cell_type": "markdown",
      "metadata": {},
      "source": [
        "You can sort elements into ascending or descending order:"
      ]
    },
    {
      "cell_type": "code",
      "execution_count": null,
      "metadata": {},
      "outputs": [],
      "source": [
        "np.sort(river_lenght_km)"
      ]
    },
    {
      "cell_type": "markdown",
      "metadata": {},
      "source": [
        "Sort into descending"
      ]
    },
    {
      "cell_type": "code",
      "execution_count": null,
      "metadata": {},
      "outputs": [],
      "source": [
        "np.sort(river_lenght_km)[::-1]"
      ]
    },
    {
      "cell_type": "markdown",
      "metadata": {},
      "source": [
        "Note that NumPy arrays can also be 2 dimensional; 2D arrays is a matrix like data with rows and columns:"
      ]
    },
    {
      "cell_type": "code",
      "execution_count": null,
      "metadata": {},
      "outputs": [],
      "source": [
        "two_d_array = np.array([[1, 2, 3],\n",
        "                   [4, 5, 6],\n",
        "                   [7, 8, 9]])\n",
        "\n",
        "print(two_d_array)"
      ]
    },
    {
      "cell_type": "markdown",
      "metadata": {},
      "source": [
        "## Dictionaries\n",
        "\n",
        "Remeember we created two lists previously, `southern_african_countries` and `life_expectancy`. "
      ]
    },
    {
      "cell_type": "code",
      "execution_count": null,
      "metadata": {},
      "outputs": [],
      "source": [
        "southern_african_countries = [\"Angola\", \"Botswana\", \"Lesotho\", \"Malawi\", \"Mozambique\", \"Namibia\", \"South Africa\", \"Swaziland\", \"Zambia\", \"Zimbabwe\"]\n",
        "\n",
        "print(southern_african_countries)\n",
        "\n",
        "life_expectancy = [61.6, 61.1, 57.1, 53.1, 62.9, 59.3, 59.3, 62.3, 61.2, 59.3]\n",
        "\n",
        "print(life_expectancy)"
      ]
    },
    {
      "cell_type": "markdown",
      "metadata": {},
      "source": [
        "We can find the corresponding life expectancy of, for example, \"Botswana\". First find the index position of Botswana:"
      ]
    },
    {
      "cell_type": "code",
      "execution_count": null,
      "metadata": {},
      "outputs": [],
      "source": [
        "botswana_index = southern_african_countries.index(\"Botswana\")\n",
        "\n",
        "print(botswana_index)"
      ]
    },
    {
      "cell_type": "markdown",
      "metadata": {},
      "source": [
        "The index of Botswana is 1. We can access the corresposing life expectancy:"
      ]
    },
    {
      "cell_type": "code",
      "execution_count": null,
      "metadata": {},
      "outputs": [],
      "source": [
        "life_expectancy[botswana_index]"
      ]
    },
    {
      "cell_type": "markdown",
      "metadata": {},
      "source": [
        "The life expectancy of Botswana. But this is not efficient if we have large data. This where dictionaries come in:"
      ]
    },
    {
      "cell_type": "code",
      "execution_count": null,
      "metadata": {},
      "outputs": [],
      "source": [
        "southern_africa = {\"Angola\":61.6, \n",
        "                   \"Botswana\":61.1,\n",
        "                   \"Lesotho\":57.1,\n",
        "                   \"Malawi\":53.1,\n",
        "                   \"Mozambique\":62.9,\n",
        "                   \"Namibia\":59.3}\n",
        "\n",
        "print(southern_africa)"
      ]
    },
    {
      "cell_type": "markdown",
      "metadata": {},
      "source": [
        "We have created a dictionary named southern_africa. A dictionary has `keys` and `values` and this is always in pairs. For example, we have `Angola` as a key with its corresponding value `61.6`. \n",
        "\n",
        "You can find values of each keys:"
      ]
    },
    {
      "cell_type": "code",
      "execution_count": null,
      "metadata": {},
      "outputs": [],
      "source": [
        "print(southern_africa[\"Malawi\"])"
      ]
    },
    {
      "cell_type": "markdown",
      "metadata": {},
      "source": [
        "Of Namibia:"
      ]
    },
    {
      "cell_type": "code",
      "execution_count": null,
      "metadata": {},
      "outputs": [],
      "source": [
        "print(southern_africa[\"Namibia\"])"
      ]
    },
    {
      "cell_type": "markdown",
      "metadata": {},
      "source": [
        "You can find keys of all keys:"
      ]
    },
    {
      "cell_type": "code",
      "execution_count": null,
      "metadata": {},
      "outputs": [],
      "source": [
        "print(southern_africa.keys())"
      ]
    },
    {
      "cell_type": "markdown",
      "metadata": {},
      "source": [
        "If you look at the `southern_africa` dictionary, we did not include all other countries in the region. We may need to add, let say, Zimbabwe:"
      ]
    },
    {
      "cell_type": "code",
      "execution_count": null,
      "metadata": {},
      "outputs": [],
      "source": [
        "southern_africa[\"Zimbabwe\"] = 59.3\n",
        "\n",
        "print(southern_africa)"
      ]
    },
    {
      "cell_type": "markdown",
      "metadata": {},
      "source": [
        "You can see that the dictionary has been updated to include Zimbwabwe.\n",
        "\n",
        "Suppose  demographer pouint out that the values of Botswana is outdated; that the life expectancy of the country has increased from 61.1 to 63! We can update this information"
      ]
    },
    {
      "cell_type": "code",
      "execution_count": null,
      "metadata": {},
      "outputs": [],
      "source": [
        "southern_africa[\"Botswana\"] = 63\n",
        "\n",
        "print(southern_africa[\"Botswana\"])"
      ]
    },
    {
      "cell_type": "markdown",
      "metadata": {},
      "source": [
        "The value of Botswana has been changed. \n",
        "\n",
        "What if we want to add new information in the dictionary? For example, we may want to add the capital cities of the countries in the `southern_africa` dicitionary:"
      ]
    },
    {
      "cell_type": "code",
      "execution_count": null,
      "metadata": {},
      "outputs": [],
      "source": [
        "southern_africa_2 = {\"Angola\": {\"life_expectancy\": 61.6, \"capital\":\"Luanda\"},\n",
        "                     \"Botswana\": {\"life_expectancy\": 61.1, \"capital\":\"Gaborone\"},\n",
        "                     \"Lesotho\": {\"life_expectancy\": 57.1, \"capital\":\"Maseru\"},\n",
        "                     \"Malawi\": {\"life_expectancy\": 53.1, \"capital\":\"Lilongwe\"},\n",
        "                     \"Mozambique\": {\"life_expectancy\": 62.9, \"capital\":\"Maputo\"},\n",
        "                     \"Namibia\": {\"life_expectancy\": 59.3, \"capital\":\"Windhoek\"}}\n",
        "\n",
        "print(southern_africa_2)"
      ]
    },
    {
      "cell_type": "markdown",
      "metadata": {},
      "source": [
        "As you can see in the results, the dictionary has been updated. \n",
        "\n",
        "## DataFrames\n",
        "\n",
        "The previous data structures we have discussed (lists, np.arrays, dictionaries) can handly limited amount of data. In the real world, most data comes big, in a tabular format: with columns and rows. In Python, we use we use the `pandas` package to handle data in a tabular format. You need to install it first as `pip install pandas`"
      ]
    },
    {
      "cell_type": "markdown",
      "metadata": {},
      "source": [
        "Then import `pandas`:"
      ]
    },
    {
      "cell_type": "code",
      "execution_count": null,
      "metadata": {},
      "outputs": [],
      "source": [
        "import pandas as pd"
      ]
    },
    {
      "cell_type": "markdown",
      "metadata": {},
      "source": [
        "Let return to the previous lists that we have created: list of Southern African countries and corresponding life expectancy:"
      ]
    },
    {
      "cell_type": "code",
      "execution_count": null,
      "metadata": {},
      "outputs": [],
      "source": [
        "country = [\"Angola\", \"Botswana\", \"Lesotho\", \"Malawi\", \"Mozambique\", \"Namibia\", \"South Africa\", \"Swaziland\", \"Zambia\", \"Zimbabwe\"]\n",
        "\n",
        "print(country)"
      ]
    },
    {
      "cell_type": "markdown",
      "metadata": {},
      "source": [
        "Create life_expectancy list:"
      ]
    },
    {
      "cell_type": "code",
      "execution_count": null,
      "metadata": {},
      "outputs": [],
      "source": [
        "life_expectancy = [61.6, 61.1, 57.1, 53.1, 62.9, 59.3, 59.3, 62.3, 61.2, 59.3]\n",
        "print(life_expectancy)"
      ]
    },
    {
      "cell_type": "markdown",
      "metadata": {},
      "source": [
        "Let's add one more list of, for example, population of each country:"
      ]
    },
    {
      "cell_type": "code",
      "execution_count": null,
      "metadata": {},
      "outputs": [],
      "source": [
        "population = [500, 600, 1000, 150, 490, 740, 300, 781, 610, 504]\n",
        "\n",
        "print(population)"
      ]
    },
    {
      "cell_type": "markdown",
      "metadata": {},
      "source": [
        "From these three lists, we can create a DataFrame using `pandas`:"
      ]
    },
    {
      "cell_type": "code",
      "execution_count": null,
      "metadata": {},
      "outputs": [],
      "source": [
        "southern_africa_df = pd.DataFrame({\"country_name\":country, \"life_expect\": life_expectancy, \"pop\":population})\n",
        "\n",
        "print(southern_africa_df)"
      ]
    },
    {
      "cell_type": "markdown",
      "metadata": {},
      "source": [
        "We have a DataFrame with three columns: country_name, life_expect, and pop and 10 rows (observations), where each row represent country. You can use the `.head()` function to view the first observations\n"
      ]
    },
    {
      "cell_type": "code",
      "execution_count": null,
      "metadata": {},
      "outputs": [],
      "source": [
        "print(southern_africa_df.head())"
      ]
    },
    {
      "cell_type": "markdown",
      "metadata": {},
      "source": [
        "You can check how many columns and rows in the DataFrame by using `.info()` function:"
      ]
    },
    {
      "cell_type": "code",
      "execution_count": null,
      "metadata": {},
      "outputs": [],
      "source": [
        "print(southern_africa_df.info())"
      ]
    },
    {
      "cell_type": "markdown",
      "metadata": {},
      "source": [
        "You can get more information of your DataFrame by using `.describe()` function, it will return the summary statistics of all numeric columns:"
      ]
    },
    {
      "cell_type": "code",
      "execution_count": null,
      "metadata": {},
      "outputs": [],
      "source": [
        "print(southern_africa_df.describe())"
      ]
    },
    {
      "cell_type": "markdown",
      "metadata": {},
      "source": [
        "You can subset both rows and columns, to return only those you are interested in. Let's say you want to select only `country_name` and `pop` columns, you can do this by wrapping the DataFrame within double square brackets (`[[]]`) and specify those coulumns:"
      ]
    },
    {
      "cell_type": "code",
      "execution_count": null,
      "metadata": {},
      "outputs": [],
      "source": [
        "print(southern_africa_df[[\"country_name\", \"pop\"]])"
      ]
    },
    {
      "cell_type": "markdown",
      "metadata": {},
      "source": [
        "You can also select rows. For example, subset observations from Angola and save as a new DataFrame named `angola`:"
      ]
    },
    {
      "cell_type": "code",
      "execution_count": null,
      "metadata": {},
      "outputs": [],
      "source": [
        "angola = southern_africa_df[southern_africa_df[\"country_name\"] == \"Angola\"]\n",
        "\n",
        "print(angola)"
      ]
    },
    {
      "cell_type": "markdown",
      "metadata": {},
      "source": [
        "Select observations from Angola and Zimbabwe:"
      ]
    },
    {
      "cell_type": "code",
      "execution_count": null,
      "metadata": {},
      "outputs": [],
      "source": [
        "angola_zim = southern_africa_df[southern_africa_df[\"country_name\"].isin([\"Angola\", \"Zimbabwe\"])]\n",
        "print(angola_zim)"
      ]
    },
    {
      "cell_type": "markdown",
      "metadata": {},
      "source": [
        "Subset observations where life expectancy is below 60:"
      ]
    },
    {
      "cell_type": "code",
      "execution_count": null,
      "metadata": {},
      "outputs": [],
      "source": [
        "low_life_expect = southern_africa_df[southern_africa_df[\"life_expect\"] < 60]\n",
        "\n",
        "print(low_life_expect)"
      ]
    },
    {
      "cell_type": "markdown",
      "metadata": {},
      "source": [
        "## Conclusion\n",
        "There are many other ways in which you can manipulate, transform and analyse DataFrame, and `pandas` provide many methods to handle DataFrames. We will dive deepr into DataFrames and Pandas in one of the chapter.\n",
        "\n",
        "\n",
        "In this chapter we have discussed different data structures that can hold data:\n",
        "\n",
        "- Lists\n",
        "\n",
        "- Numpy Arrays\n",
        "\n",
        "- Dictionaries\n",
        "\n",
        "- DataFrames\n",
        "\n",
        "In the next chapter, we explore various ways in which we can visualise data. "
      ]
    }
  ],
  "metadata": {
    "kernelspec": {
      "display_name": "Python 3 (ipykernel)",
      "language": "python",
      "name": "python3"
    },
    "language_info": {
      "codemirror_mode": {
        "name": "ipython",
        "version": 3
      },
      "file_extension": ".py",
      "mimetype": "text/x-python",
      "name": "python",
      "nbconvert_exporter": "python",
      "pygments_lexer": "ipython3",
      "version": "3.9.12"
    }
  },
  "nbformat": 4,
  "nbformat_minor": 4
}
