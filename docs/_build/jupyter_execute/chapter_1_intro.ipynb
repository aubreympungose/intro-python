{
 "cells": [
  {
   "cell_type": "markdown",
   "metadata": {},
   "source": [
    "# Introduction to Python Programming"
   ]
  },
  {
   "cell_type": "markdown",
   "metadata": {},
   "source": [
    "## Learning objectives\n",
    "\n",
    "-   understand the basics of Python programming\n",
    "\n",
    "-   Understand data types and objects\n",
    "\n",
    "-   understand Python functions\n",
    "\n",
    "\n",
    "## Basics of Python\n",
    "\n",
    "In the previous section, we showed the layout of RStudio. For this lesson, you will write all the code in the scripts/source and see the output in the console. To comment on the code, you will use the hashtag (`#`) to tell R not to execute the line as a code.\n",
    "\n",
    "R can be used as a calculator:"
   ]
  },
  {
   "cell_type": "code",
   "execution_count": 1,
   "metadata": {
    "results": "asis"
   },
   "outputs": [
    {
     "name": "stdout",
     "output_type": "stream",
     "text": [
      "11\n",
      "54\n"
     ]
    }
   ],
   "source": [
    "print(4 + 7) \n",
    "\n",
    "print(9 * 6) "
   ]
  },
  {
   "cell_type": "markdown",
   "metadata": {},
   "source": [
    "### Arithmetic Operators\n",
    "\n",
    "| Description    | Operator | Example |\n",
    "|----------------|----------|---------|\n",
    "| Addition       | \\+       | 1 + 3   |\n",
    "| Subtract       | \\-       | 90 - 5  |\n",
    "| Multiplication | \\*       | 6 \\* 7  |\n",
    "| Exponentiation | **       | 3 \\^ 6  |\n",
    "| Division       | /        | 54 / 7  |\n",
    "\n",
    "\n",
    "Type in and run the above examples in the script or console. \n",
    "\n",
    "### Assigning variables \n",
    "\n",
    "Notice that we have been running previous codes without assigning them to a variable. We can assign anything to a variable (`=`); this can be a plot, a variable, a table, etc. \n",
    "\n",
    "Say we ages of two individuals: Thembi's age is 30 and Sipho's age is 20. You can assign their ages to a variable:"
   ]
  },
  {
   "cell_type": "code",
   "execution_count": 2,
   "metadata": {},
   "outputs": [],
   "source": [
    "thembi_age = 30\n",
    "\n",
    "sipho_age = 20"
   ]
  },
  {
   "cell_type": "markdown",
   "metadata": {},
   "source": [
    "You can use `print()` function to get the results"
   ]
  },
  {
   "cell_type": "code",
   "execution_count": 3,
   "metadata": {},
   "outputs": [
    {
     "name": "stdout",
     "output_type": "stream",
     "text": [
      "30\n",
      "20\n"
     ]
    }
   ],
   "source": [
    "print(thembi_age)\n",
    "\n",
    "print(sipho_age)"
   ]
  },
  {
   "cell_type": "markdown",
   "metadata": {},
   "source": [
    "Because you have stored/assigned these into variables, you can calculate, let's say, total, differences, multiplication, etc. Get the sum of ages:"
   ]
  },
  {
   "cell_type": "code",
   "execution_count": 4,
   "metadata": {},
   "outputs": [
    {
     "data": {
      "text/plain": [
       "50"
      ]
     },
     "execution_count": 4,
     "metadata": {},
     "output_type": "execute_result"
    }
   ],
   "source": [
    "sipho_age + thembi_age"
   ]
  },
  {
   "cell_type": "markdown",
   "metadata": {},
   "source": [
    "Get age differences:"
   ]
  },
  {
   "cell_type": "code",
   "execution_count": 5,
   "metadata": {},
   "outputs": [
    {
     "data": {
      "text/plain": [
       "10"
      ]
     },
     "execution_count": 5,
     "metadata": {},
     "output_type": "execute_result"
    }
   ],
   "source": [
    "thembi_age - sipho_age"
   ]
  },
  {
   "cell_type": "markdown",
   "metadata": {},
   "source": [
    "Multiply these ages:"
   ]
  },
  {
   "cell_type": "code",
   "execution_count": 6,
   "metadata": {},
   "outputs": [
    {
     "data": {
      "text/plain": [
       "600"
      ]
     },
     "execution_count": 6,
     "metadata": {},
     "output_type": "execute_result"
    }
   ],
   "source": [
    "thembi_age * sipho_age"
   ]
  },
  {
   "cell_type": "markdown",
   "metadata": {},
   "source": [
    "Basically, we have crated variables: `sipho_age` and `thembi_age`, and stored their ages in numbers there. **always remember this**:\n",
    "\n",
    "- a variable name is case sensitive: if you have named it `sipho_age`, when you type `Sipho_age` there will be an error:"
   ]
  },
  {
   "cell_type": "code",
   "execution_count": 7,
   "metadata": {},
   "outputs": [
    {
     "ename": "NameError",
     "evalue": "name 'Sipho_age' is not defined",
     "output_type": "error",
     "traceback": [
      "\u001b[1;31m---------------------------------------------------------------------------\u001b[0m",
      "\u001b[1;31mNameError\u001b[0m                                 Traceback (most recent call last)",
      "Input \u001b[1;32mIn [7]\u001b[0m, in \u001b[0;36m<cell line: 2>\u001b[1;34m()\u001b[0m\n\u001b[0;32m      1\u001b[0m \u001b[38;5;66;03m#| error: true\u001b[39;00m\n\u001b[1;32m----> 2\u001b[0m \u001b[38;5;28mprint\u001b[39m(\u001b[43mSipho_age\u001b[49m)\n",
      "\u001b[1;31mNameError\u001b[0m: name 'Sipho_age' is not defined"
     ]
    }
   ],
   "source": [
    "#| error: true\n",
    "print(Sipho_age)"
   ]
  },
  {
   "cell_type": "markdown",
   "metadata": {},
   "source": [
    "## Data types in Python\n",
    "\n",
    "While there many data types in Python, in this course, we will focus on the most common: \n",
    "\n",
    "There 3 basic data types in R\n",
    "\n",
    "- **numeric**: \n",
    "    - int: integers eg. (1, 2, 6, 90)\n",
    "    - float: with decimal e.g. (1.2, 5.3, 8.4)\n",
    "\n",
    "- **string**: `str`. This is text data, for axample, \"My name is Aubrey\"\n",
    "\n",
    "- **boolean**: `bool`. TRUE/FALSE\n",
    "\n",
    "\n",
    "#### Strings\n",
    "\n",
    "Strings are character data types, alwways surrounded by quoates: either single quotes (`''`) or double quotes (`\"\"`)\n",
    "\n",
    "\n",
    "Example of a **string**  variables:"
   ]
  },
  {
   "cell_type": "code",
   "execution_count": null,
   "metadata": {},
   "outputs": [],
   "source": [
    "river = \"Tugela river\"\n",
    "\n",
    "print(river)"
   ]
  },
  {
   "cell_type": "code",
   "execution_count": null,
   "metadata": {},
   "outputs": [],
   "source": [
    "country  = \"South Africa\"\n",
    "\n",
    "print(country)"
   ]
  },
  {
   "cell_type": "markdown",
   "metadata": {},
   "source": [
    "Notice that a string need to be surrounded by (\"\") every time, otherwise Python will return an error\n"
   ]
  },
  {
   "cell_type": "code",
   "execution_count": null,
   "metadata": {},
   "outputs": [],
   "source": [
    "#| error: true\n",
    "\n",
    "river = Tugela_river"
   ]
  },
  {
   "cell_type": "markdown",
   "metadata": {},
   "source": [
    "There are various basic analysis we can apply to string. For example, you may add two string:"
   ]
  },
  {
   "cell_type": "code",
   "execution_count": null,
   "metadata": {},
   "outputs": [],
   "source": [
    "name = \"Peter\"\n",
    "\n",
    "surname = \"Zulu\"\n",
    "\n",
    "### Add to strings\n",
    "\n",
    "print(name + surname)"
   ]
  },
  {
   "cell_type": "markdown",
   "metadata": {},
   "source": [
    "You can leave spaces between when adding two string variables:"
   ]
  },
  {
   "cell_type": "code",
   "execution_count": null,
   "metadata": {},
   "outputs": [],
   "source": [
    "print(name + \" \" + surname)"
   ]
  },
  {
   "cell_type": "markdown",
   "metadata": {},
   "source": [
    "You can convert to strings to upper or lower cases by using `.upper()` and `.lower()` functions, respectively:"
   ]
  },
  {
   "cell_type": "code",
   "execution_count": null,
   "metadata": {},
   "outputs": [],
   "source": [
    "name.upper() "
   ]
  },
  {
   "cell_type": "code",
   "execution_count": null,
   "metadata": {},
   "outputs": [],
   "source": [
    "surname.lower()"
   ]
  },
  {
   "cell_type": "markdown",
   "metadata": {},
   "source": [
    "How long is the string? You can find out by using `len()` function:"
   ]
  },
  {
   "cell_type": "code",
   "execution_count": null,
   "metadata": {},
   "outputs": [],
   "source": [
    "len(name)"
   ]
  },
  {
   "cell_type": "code",
   "execution_count": null,
   "metadata": {},
   "outputs": [],
   "source": [
    "len(surname)"
   ]
  },
  {
   "cell_type": "markdown",
   "metadata": {},
   "source": [
    "#### Numeric data\n",
    "\n",
    "Numeric data represent numerical values, they can be either:\n",
    "\n",
    "- interger: whole numbers (e.g. 1, 30, 5, 90) or \n",
    "\n",
    "- float: numbers with decimals (e.g. 1.2, 4.7...)\n",
    "\n",
    "For example we may create a variables of river lenght and depth in kilometers"
   ]
  },
  {
   "cell_type": "code",
   "execution_count": null,
   "metadata": {},
   "outputs": [],
   "source": [
    "river_length_km = 531\n",
    "print(river_length_km)\n",
    "\n",
    "river_depth_km = 0.15\n",
    "print(river_depth_km)"
   ]
  },
  {
   "cell_type": "markdown",
   "metadata": {},
   "source": [
    "There are many functions that can be used to analyse numeric data, for example, we may add two numeric variables:"
   ]
  },
  {
   "cell_type": "code",
   "execution_count": null,
   "metadata": {},
   "outputs": [],
   "source": [
    "print(river_length_km + river_depth_km)"
   ]
  },
  {
   "cell_type": "markdown",
   "metadata": {},
   "source": [
    "You can multiply:"
   ]
  },
  {
   "cell_type": "code",
   "execution_count": null,
   "metadata": {},
   "outputs": [],
   "source": [
    "print(river_depth_km * river_depth_km)"
   ]
  },
  {
   "cell_type": "markdown",
   "metadata": {},
   "source": [
    "Numeric data does not to need to be surrounded by `\" \"`, if you do, they will be stored as a string. \n",
    "\n",
    "### Boolean\n",
    "\n",
    "Boolean data takes two possible values:`True` or `False`.\n",
    "An example of a logical data type:"
   ]
  },
  {
   "cell_type": "code",
   "execution_count": null,
   "metadata": {},
   "outputs": [],
   "source": [
    "is_male = True\n",
    "\n",
    "print(is_male) \n",
    "\n",
    "is_female = False\n",
    "\n",
    "print(is_female) "
   ]
  },
  {
   "cell_type": "markdown",
   "metadata": {},
   "source": [
    "In many cases, booleans are used to evaluate conditions:\n",
    "\n",
    "- `==`: Equal to\n",
    "- `!=`: Not equal to\n",
    "- `<`: Less than\n",
    "- `>`: Greater than\n",
    "- `<=`: Less than or equal to\n",
    "- `>=`: Greater than or equal to"
   ]
  },
  {
   "cell_type": "code",
   "execution_count": null,
   "metadata": {},
   "outputs": [],
   "source": [
    "age = 45\n",
    "\n",
    "print(age == 45)"
   ]
  },
  {
   "cell_type": "code",
   "execution_count": null,
   "metadata": {},
   "outputs": [],
   "source": [
    "age = 45\n",
    "print(age > 50)"
   ]
  },
  {
   "cell_type": "code",
   "execution_count": null,
   "metadata": {},
   "outputs": [],
   "source": [
    "age = 45\n",
    "print(age > 50)"
   ]
  },
  {
   "cell_type": "code",
   "execution_count": null,
   "metadata": {},
   "outputs": [],
   "source": [
    "age = 45\n",
    "\n",
    "if age > 34:\n",
    "    print(\"This person is an adult\")\n",
    "else: \n",
    "        print(\"You are young\")"
   ]
  },
  {
   "cell_type": "markdown",
   "metadata": {},
   "source": [
    "### What type?\n",
    "\n",
    "You can ask python to tell you the type of the data structure by using `type()` function:"
   ]
  },
  {
   "cell_type": "code",
   "execution_count": null,
   "metadata": {},
   "outputs": [],
   "source": [
    "river_length_km = 531\n",
    "print(type(river_length_km))"
   ]
  },
  {
   "cell_type": "markdown",
   "metadata": {},
   "source": [
    "The `river_lenght_km` variable is an integer"
   ]
  },
  {
   "cell_type": "code",
   "execution_count": null,
   "metadata": {},
   "outputs": [],
   "source": [
    "river_name = \"Tugela\"\n",
    "\n",
    "print(type(river_name))"
   ]
  },
  {
   "cell_type": "code",
   "execution_count": null,
   "metadata": {},
   "outputs": [],
   "source": [
    "is_female = False\n",
    "\n",
    "print(type(is_female))"
   ]
  },
  {
   "cell_type": "markdown",
   "metadata": {},
   "source": [
    "\n",
    "## Conclusion\n",
    "\n",
    "In this section, you have learnt basic data types, functions and operators. Next, we learn different type of data structures. "
   ]
  }
 ],
 "metadata": {
  "kernelspec": {
   "display_name": "Python 3 (ipykernel)",
   "language": "python",
   "name": "python3"
  },
  "language_info": {
   "codemirror_mode": {
    "name": "ipython",
    "version": 3
   },
   "file_extension": ".py",
   "mimetype": "text/x-python",
   "name": "python",
   "nbconvert_exporter": "python",
   "pygments_lexer": "ipython3",
   "version": "3.9.12"
  }
 },
 "nbformat": 4,
 "nbformat_minor": 4
}