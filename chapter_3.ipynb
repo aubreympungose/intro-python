{
  "cells": [
    {
      "cell_type": "markdown",
      "metadata": {},
      "source": [
        " # Introduction to data visualisation\n",
        "\n",
        "Data visualisation is an important skill for data scientists. In fact, data manipulation and visualisations go hand in hand. Before any analysis, it is important to visualise data to explore its distribution, relationships, normality, etc.\n",
        "\n",
        "We will be working with `matplotlib` library within Python for data visualistion. Although there are many other packages, `matplotlib` is the foundational library. Thus it is important to master `matplotlib` first before exploring other advanced libraries. You can import matplotlib as follows. We will also need the pandas package to read data:"
      ]
    },
    {
      "cell_type": "code",
      "execution_count": null,
      "metadata": {},
      "outputs": [],
      "source": [
        "import matplotlib.pyplot as plt\n",
        "\n",
        "import pandas as pd"
      ]
    },
    {
      "cell_type": "markdown",
      "metadata": {},
      "source": [
        "We will be working with the `gapminder` dataset, which is the real world data. I have saved this data as a CSV (comma-separated values) file on GitHub. A CSV file is a text file used to store data in a tabular format. You will use `.read_csv()` function from pandas to read this file and assign it to `gapminder`:"
      ]
    },
    {
      "cell_type": "code",
      "execution_count": null,
      "metadata": {},
      "outputs": [],
      "source": [
        "gapminder = pd.read_csv(\"https://raw.githubusercontent.com/aubreympungose/data-science-course/main/weeks/data/gapminder.csv\")\n",
        "\n",
        "# Take a look at the first observation of the data\n",
        "gapminder.head()"
      ]
    },
    {
      "cell_type": "markdown",
      "metadata": {},
      "source": [
        "We have loaded the dataset. You can see columns and rows."
      ]
    },
    {
      "cell_type": "code",
      "execution_count": null,
      "metadata": {},
      "outputs": [],
      "source": [
        "gapminder.info()"
      ]
    },
    {
      "cell_type": "markdown",
      "metadata": {},
      "source": [
        "We can see that `gapminder` has 6 columns and 1704 rows. The columns in the dataset are:\n",
        "\n",
        "- country: Simply the country\n",
        "\n",
        "- continent: Continent\n",
        "\n",
        "- year: The year data was collected\n",
        "\n",
        "- lifeExp: Life expectancy of a country in year\n",
        "\n",
        "- pop: Population of the country in a year\n",
        "\n",
        "- gdpPercap: Gross Domestic Product of a country in a year\n",
        "\n",
        "It is a time series data that track countries. Look at the range of years:"
      ]
    },
    {
      "cell_type": "code",
      "execution_count": null,
      "metadata": {},
      "outputs": [],
      "source": [
        "print(gapminder[\"year\"].min())\n",
        "\n",
        "print(gapminder[\"year\"].max())"
      ]
    },
    {
      "cell_type": "markdown",
      "metadata": {},
      "source": [
        "The datasets contain observations collected from 1952 to 2007. \n",
        "\n",
        "\n",
        "## A first plot\n",
        "\n",
        "Suppose you want to show relationship between life expectancy and GDP per capita. We can create a scatterplot:"
      ]
    },
    {
      "cell_type": "code",
      "execution_count": null,
      "metadata": {},
      "outputs": [],
      "source": [
        "plt.scatter(x = gapminder[\"gdpPercap\"], y = gapminder[\"lifeExp\"])\n",
        "\n",
        "plt.show()"
      ]
    },
    {
      "cell_type": "markdown",
      "metadata": {},
      "source": [
        "We have created a first plot. Let examine the code above:\n",
        "\n",
        "- We used `scatter()` function from pylot sub-package of matplotlib\n",
        "\n",
        "- We specified that we need the to plot two columns: `gdpPercap` on x-axis and `lifeExp` on the y-axis. \n",
        "\n",
        "- We then used `.show()` function from pyplot to show the plot. \n",
        "\n",
        "## Labels\n",
        "\n",
        "Notice that our first plot does not have any labels on the both axis, and also does not have a title. We can add all of these:"
      ]
    },
    {
      "cell_type": "code",
      "execution_count": null,
      "metadata": {},
      "outputs": [],
      "source": [
        "plt.scatter(x = gapminder[\"gdpPercap\"], y = gapminder[\"lifeExp\"])\n",
        "\n",
        "# Set x-axis labels \n",
        "plt.xlabel('GDP per capita')\n",
        "\n",
        "# Set y-axis\n",
        "plt.ylabel('Life expectancy')\n",
        "\n",
        "# set title of the plot\n",
        "plt.title('GDP vs Life Expectancy (1952-2007)')\n",
        "\n",
        "# show the plot\n",
        "\n",
        "plt.show()"
      ]
    },
    {
      "cell_type": "markdown",
      "metadata": {},
      "source": [
        "### Transforming axis scales\n",
        "\n",
        "Notice that x-axis is not normally distributed. One of the method to use is to transform data to log10, to normnalise it:"
      ]
    },
    {
      "cell_type": "code",
      "execution_count": null,
      "metadata": {},
      "outputs": [],
      "source": [
        "plt.scatter(x = gapminder[\"gdpPercap\"], y = gapminder[\"lifeExp\"])\n",
        "\n",
        "plt.xlabel('GDP per capita')\n",
        "\n",
        "plt.ylabel('Life expectancy')\n",
        "\n",
        "plt.title('GDP vs Life Expectancy (1952-2007)')\n",
        "\n",
        "# Apply log scale to x-axis\n",
        "plt.xscale('log')\n",
        "\n",
        "\n",
        "plt.show()"
      ]
    },
    {
      "cell_type": "markdown",
      "metadata": {},
      "source": [
        "### Customise: colour, size, shape\n",
        "\n",
        "Sometimes you may need to change how variables/data point appear. Suppose you want to make all the countries belonging to each continent to be of same colour. Here, you would need to create a dictionary where each continent name is a key and colour as a value, then create a plot\n"
      ]
    },
    {
      "cell_type": "code",
      "execution_count": null,
      "metadata": {},
      "outputs": [],
      "source": [
        "colour_dict = {\n",
        "    'Asia':'red',\n",
        "    'Europe':'green',\n",
        "    'Africa':'blue',\n",
        "    'Americas':'yellow',\n",
        "    'Oceania':'black'\n",
        "}\n",
        "\n",
        "colors = [colour_dict[continent] for continent in gapminder['continent']]\n",
        "\n",
        "plt.scatter(gapminder['gdpPercap'], gapminder['lifeExp'], c=colors)\n",
        "\n",
        "plt.xlabel('GDP per capita')\n",
        "\n",
        "plt.ylabel('Life expectancy')\n",
        "\n",
        "plt.title('GDP vs Life Expectancy (1952-2007)')\n",
        "\n",
        "plt.xscale('log')\n",
        "\n",
        "\n",
        "plt.show()"
      ]
    }
  ],
  "metadata": {
    "kernelspec": {
      "display_name": "Python 3 (ipykernel)",
      "language": "python",
      "name": "python3"
    }
  },
  "nbformat": 4,
  "nbformat_minor": 4
}
